{
 "cells": [
  {
   "cell_type": "markdown",
   "metadata": {},
   "source": [
    "# Face and Eye Deduction from web cam Video"
   ]
  },
  {
   "cell_type": "code",
   "execution_count": 1,
   "metadata": {},
   "outputs": [],
   "source": [
    "import cv2\n",
    "import numpy as np"
   ]
  },
  {
   "cell_type": "code",
   "execution_count": 2,
   "metadata": {},
   "outputs": [],
   "source": [
    "face_cascade = cv2.CascadeClassifier('Haarcascades/haarcascade_frontalface_default.xml')\n",
    "eye_cascade = cv2.CascadeClassifier('Haarcascades/haarcascade_eye.xml')"
   ]
  },
  {
   "cell_type": "code",
   "execution_count": null,
   "metadata": {},
   "outputs": [],
   "source": [
    "def deduct(gray, frame):\n",
    "    faces = face_cascade.detectMultiScale(gray,1.3,5)\n",
    "    for (x,y,w,h) in faces:\n",
    "        cv2.rectangle(gray, (x,y),(x+w,y+h),(255,0,0),2)\n",
    "        rol_gray = gray[y:y+w, x:x+h]\n",
    "        rol_color = frame[y:y+w, x:x+h]\n",
    "        eyes = eye_cascade.detectMultiScale(rol_gray,1.1,3)\n",
    "        for(ex,ey,ew,eh) in eyes:\n",
    "            cv2.rectangle(rol_color, (ex,ey), (ex+ew, ey+eh),(0,255,0),2)\n",
    "    return frame\n",
    "\n",
    "video_capture = cv2.VideoCapture(0)\n",
    "while True:\n",
    "    _, frame = video_capture.read()\n",
    "    gray= cv2.cvtColor(frame, cv2.COLOR_BGR2GRAY)\n",
    "    canvas = deduct(gray, frame)\n",
    "    cv2.imshow('Video', canvas)\n",
    "video_capture.release()\n",
    "cv2.destroyAllWindows()"
   ]
  },
  {
   "cell_type": "code",
   "execution_count": null,
   "metadata": {},
   "outputs": [],
   "source": []
  }
 ],
 "metadata": {
  "kernelspec": {
   "display_name": "Python 3",
   "language": "python",
   "name": "python3"
  },
  "language_info": {
   "codemirror_mode": {
    "name": "ipython",
    "version": 3
   },
   "file_extension": ".py",
   "mimetype": "text/x-python",
   "name": "python",
   "nbconvert_exporter": "python",
   "pygments_lexer": "ipython3",
   "version": "3.8.5"
  }
 },
 "nbformat": 4,
 "nbformat_minor": 4
}
